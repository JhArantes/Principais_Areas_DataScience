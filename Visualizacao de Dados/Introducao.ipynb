{
 "cells": [
  {
   "cell_type": "markdown",
   "metadata": {},
   "source": [
    "# Importing \"Begginer Libraries\""
   ]
  },
  {
   "cell_type": "code",
   "execution_count": 50,
   "metadata": {},
   "outputs": [],
   "source": [
    "# Manipulate data\n",
    "import pandas as pd\n",
    "\n",
    "# For Plot graph\n",
    "import matplotlib.pyplot as plt"
   ]
  },
  {
   "cell_type": "markdown",
   "metadata": {},
   "source": [
    "***\n",
    "### I won't teach how to do these things because this is a repository about graphs.\n",
    "\n",
    "#### DATA : Annual number of immigrants by country going to Canada\n"
   ]
  },
  {
   "cell_type": "code",
   "execution_count": 84,
   "metadata": {},
   "outputs": [
    {
     "data": {
      "text/html": [
       "<div>\n",
       "<style scoped>\n",
       "    .dataframe tbody tr th:only-of-type {\n",
       "        vertical-align: middle;\n",
       "    }\n",
       "\n",
       "    .dataframe tbody tr th {\n",
       "        vertical-align: top;\n",
       "    }\n",
       "\n",
       "    .dataframe thead th {\n",
       "        text-align: right;\n",
       "    }\n",
       "</style>\n",
       "<table border=\"1\" class=\"dataframe\">\n",
       "  <thead>\n",
       "    <tr style=\"text-align: right;\">\n",
       "      <th></th>\n",
       "      <th>Continent</th>\n",
       "      <th>Region</th>\n",
       "      <th>1980</th>\n",
       "      <th>1981</th>\n",
       "      <th>1982</th>\n",
       "      <th>1983</th>\n",
       "      <th>1984</th>\n",
       "      <th>1985</th>\n",
       "      <th>1986</th>\n",
       "      <th>1987</th>\n",
       "      <th>...</th>\n",
       "      <th>2005</th>\n",
       "      <th>2006</th>\n",
       "      <th>2007</th>\n",
       "      <th>2008</th>\n",
       "      <th>2009</th>\n",
       "      <th>2010</th>\n",
       "      <th>2011</th>\n",
       "      <th>2012</th>\n",
       "      <th>2013</th>\n",
       "      <th>Total</th>\n",
       "    </tr>\n",
       "    <tr>\n",
       "      <th>País</th>\n",
       "      <th></th>\n",
       "      <th></th>\n",
       "      <th></th>\n",
       "      <th></th>\n",
       "      <th></th>\n",
       "      <th></th>\n",
       "      <th></th>\n",
       "      <th></th>\n",
       "      <th></th>\n",
       "      <th></th>\n",
       "      <th></th>\n",
       "      <th></th>\n",
       "      <th></th>\n",
       "      <th></th>\n",
       "      <th></th>\n",
       "      <th></th>\n",
       "      <th></th>\n",
       "      <th></th>\n",
       "      <th></th>\n",
       "      <th></th>\n",
       "      <th></th>\n",
       "    </tr>\n",
       "  </thead>\n",
       "  <tbody>\n",
       "    <tr>\n",
       "      <th>Afeganistão</th>\n",
       "      <td>Ásia</td>\n",
       "      <td>Sul da Ásia</td>\n",
       "      <td>16</td>\n",
       "      <td>39</td>\n",
       "      <td>39</td>\n",
       "      <td>47</td>\n",
       "      <td>71</td>\n",
       "      <td>340</td>\n",
       "      <td>496</td>\n",
       "      <td>741</td>\n",
       "      <td>...</td>\n",
       "      <td>3436</td>\n",
       "      <td>3009</td>\n",
       "      <td>2652</td>\n",
       "      <td>2111</td>\n",
       "      <td>1746</td>\n",
       "      <td>1758</td>\n",
       "      <td>2203</td>\n",
       "      <td>2635</td>\n",
       "      <td>2004</td>\n",
       "      <td>58639</td>\n",
       "    </tr>\n",
       "    <tr>\n",
       "      <th>Albânia</th>\n",
       "      <td>Europa</td>\n",
       "      <td>Sul da Europa</td>\n",
       "      <td>1</td>\n",
       "      <td>0</td>\n",
       "      <td>0</td>\n",
       "      <td>0</td>\n",
       "      <td>0</td>\n",
       "      <td>0</td>\n",
       "      <td>1</td>\n",
       "      <td>2</td>\n",
       "      <td>...</td>\n",
       "      <td>1223</td>\n",
       "      <td>856</td>\n",
       "      <td>702</td>\n",
       "      <td>560</td>\n",
       "      <td>716</td>\n",
       "      <td>561</td>\n",
       "      <td>539</td>\n",
       "      <td>620</td>\n",
       "      <td>603</td>\n",
       "      <td>15699</td>\n",
       "    </tr>\n",
       "    <tr>\n",
       "      <th>Argélia</th>\n",
       "      <td>África</td>\n",
       "      <td>Norte da África</td>\n",
       "      <td>80</td>\n",
       "      <td>67</td>\n",
       "      <td>71</td>\n",
       "      <td>69</td>\n",
       "      <td>63</td>\n",
       "      <td>44</td>\n",
       "      <td>69</td>\n",
       "      <td>132</td>\n",
       "      <td>...</td>\n",
       "      <td>3626</td>\n",
       "      <td>4807</td>\n",
       "      <td>3623</td>\n",
       "      <td>4005</td>\n",
       "      <td>5393</td>\n",
       "      <td>4752</td>\n",
       "      <td>4325</td>\n",
       "      <td>3774</td>\n",
       "      <td>4331</td>\n",
       "      <td>69439</td>\n",
       "    </tr>\n",
       "  </tbody>\n",
       "</table>\n",
       "<p>3 rows × 37 columns</p>\n",
       "</div>"
      ],
      "text/plain": [
       "            Continent           Region  1980  1981  1982  1983  1984  1985  \\\n",
       "País                                                                         \n",
       "Afeganistão      Ásia      Sul da Ásia    16    39    39    47    71   340   \n",
       "Albânia        Europa    Sul da Europa     1     0     0     0     0     0   \n",
       "Argélia        África  Norte da África    80    67    71    69    63    44   \n",
       "\n",
       "             1986  1987  ...  2005  2006  2007  2008  2009  2010  2011  2012  \\\n",
       "País                     ...                                                   \n",
       "Afeganistão   496   741  ...  3436  3009  2652  2111  1746  1758  2203  2635   \n",
       "Albânia         1     2  ...  1223   856   702   560   716   561   539   620   \n",
       "Argélia        69   132  ...  3626  4807  3623  4005  5393  4752  4325  3774   \n",
       "\n",
       "             2013  Total  \n",
       "País                      \n",
       "Afeganistão  2004  58639  \n",
       "Albânia       603  15699  \n",
       "Argélia      4331  69439  \n",
       "\n",
       "[3 rows x 37 columns]"
      ]
     },
     "execution_count": 84,
     "metadata": {},
     "output_type": "execute_result"
    }
   ],
   "source": [
    "df = pd.read_csv('DATA/imigrantes_canada.csv')\n",
    "df.set_index('País', inplace=True)\n",
    "df.rename(columns={'Continente': 'Continent', 'Região': 'Region'}, inplace=True)\n",
    "\n",
    "df.head(3)"
   ]
  },
  {
   "cell_type": "code",
   "execution_count": 86,
   "metadata": {},
   "outputs": [
    {
     "name": "stdout",
     "output_type": "stream",
     "text": [
      "<class 'pandas.core.frame.DataFrame'>\n",
      "Index: 195 entries, Afeganistão to Zimbábue\n",
      "Data columns (total 37 columns):\n",
      " #   Column     Non-Null Count  Dtype \n",
      "---  ------     --------------  ----- \n",
      " 0   Continent  195 non-null    object\n",
      " 1   Region     195 non-null    object\n",
      " 2   1980       195 non-null    int64 \n",
      " 3   1981       195 non-null    int64 \n",
      " 4   1982       195 non-null    int64 \n",
      " 5   1983       195 non-null    int64 \n",
      " 6   1984       195 non-null    int64 \n",
      " 7   1985       195 non-null    int64 \n",
      " 8   1986       195 non-null    int64 \n",
      " 9   1987       195 non-null    int64 \n",
      " 10  1988       195 non-null    int64 \n",
      " 11  1989       195 non-null    int64 \n",
      " 12  1990       195 non-null    int64 \n",
      " 13  1991       195 non-null    int64 \n",
      " 14  1992       195 non-null    int64 \n",
      " 15  1993       195 non-null    int64 \n",
      " 16  1994       195 non-null    int64 \n",
      " 17  1995       195 non-null    int64 \n",
      " 18  1996       195 non-null    int64 \n",
      " 19  1997       195 non-null    int64 \n",
      " 20  1998       195 non-null    int64 \n",
      " 21  1999       195 non-null    int64 \n",
      " 22  2000       195 non-null    int64 \n",
      " 23  2001       195 non-null    int64 \n",
      " 24  2002       195 non-null    int64 \n",
      " 25  2003       195 non-null    int64 \n",
      " 26  2004       195 non-null    int64 \n",
      " 27  2005       195 non-null    int64 \n",
      " 28  2006       195 non-null    int64 \n",
      " 29  2007       195 non-null    int64 \n",
      " 30  2008       195 non-null    int64 \n",
      " 31  2009       195 non-null    int64 \n",
      " 32  2010       195 non-null    int64 \n",
      " 33  2011       195 non-null    int64 \n",
      " 34  2012       195 non-null    int64 \n",
      " 35  2013       195 non-null    int64 \n",
      " 36  Total      195 non-null    int64 \n",
      "dtypes: int64(35), object(2)\n",
      "memory usage: 57.9+ KB\n"
     ]
    }
   ],
   "source": [
    "df.info()"
   ]
  },
  {
   "cell_type": "markdown",
   "metadata": {},
   "source": [
    "## Separating and Grouping\n"
   ]
  },
  {
   "cell_type": "code",
   "execution_count": 52,
   "metadata": {},
   "outputs": [
    {
     "data": {
      "text/html": [
       "<div>\n",
       "<style scoped>\n",
       "    .dataframe tbody tr th:only-of-type {\n",
       "        vertical-align: middle;\n",
       "    }\n",
       "\n",
       "    .dataframe tbody tr th {\n",
       "        vertical-align: top;\n",
       "    }\n",
       "\n",
       "    .dataframe thead th {\n",
       "        text-align: right;\n",
       "    }\n",
       "</style>\n",
       "<table border=\"1\" class=\"dataframe\">\n",
       "  <thead>\n",
       "    <tr style=\"text-align: right;\">\n",
       "      <th></th>\n",
       "      <th>Brasil</th>\n",
       "    </tr>\n",
       "  </thead>\n",
       "  <tbody>\n",
       "    <tr>\n",
       "      <th>1980</th>\n",
       "      <td>211</td>\n",
       "    </tr>\n",
       "    <tr>\n",
       "      <th>1981</th>\n",
       "      <td>220</td>\n",
       "    </tr>\n",
       "    <tr>\n",
       "      <th>1982</th>\n",
       "      <td>192</td>\n",
       "    </tr>\n",
       "    <tr>\n",
       "      <th>1983</th>\n",
       "      <td>139</td>\n",
       "    </tr>\n",
       "    <tr>\n",
       "      <th>1984</th>\n",
       "      <td>145</td>\n",
       "    </tr>\n",
       "  </tbody>\n",
       "</table>\n",
       "</div>"
      ],
      "text/plain": [
       "     Brasil\n",
       "1980    211\n",
       "1981    220\n",
       "1982    192\n",
       "1983    139\n",
       "1984    145"
      ]
     },
     "execution_count": 52,
     "metadata": {},
     "output_type": "execute_result"
    }
   ],
   "source": [
    "anos = list(map(str, range(1980, 2014)))\n",
    "\n",
    "\n",
    "brasil = df.loc['Brasil', anos]\n",
    "brasil = brasil.to_frame()\n",
    "brasil.head()"
   ]
  },
  {
   "cell_type": "markdown",
   "metadata": {},
   "source": [
    "\n",
    "# Plotting Graphs\n",
    "\n",
    "### Understanding Cartesian Coordinates\n",
    "Before diving into plotting different types of graphs, it's essential to understand the basics of Cartesian coordinates. In a Cartesian coordinate system, there are two axes:\n",
    "\n",
    "1. X-axis: The horizontal axis, often representing the independent variable.\n",
    "2. Y-axis: The vertical axis, often representing the dependent variable.\n",
    "\n",
    "\n",
    "**Each point on a Cartesian plane is defined by a pair of coordinates (x, y).**\n",
    "\n",
    "*\n",
    "\n",
    "Read More about Cartesian Coordinate in:\n",
    "https://en.wikipedia.org/wiki/Cartesian_coordinate_system"
   ]
  },
  {
   "cell_type": "code",
   "execution_count": 95,
   "metadata": {},
   "outputs": [
    {
     "data": {
      "image/png": "[encoded data removed]",
      "text/plain": [
       "<Figure size 640x480 with 1 Axes>"
      ]
     },
     "metadata": {},
     "output_type": "display_data"
    }
   ],
   "source": [
    "plt.plot()\n",
    "plt.show()"
   ]
  },
  {
   "cell_type": "markdown",
   "metadata": {},
   "source": [
    "# Different Types of Graphs\n",
    "\n",
    "## Line Plot\n",
    "**Description:**\n",
    "\n",
    "A line plot is useful for showing data trends over time. It connects individual data points with a line, making it easy to see the changes over a continuous interval or time span.\n",
    "\n",
    "**Use Cases:**\n",
    "\n",
    "1. Tracking changes over time\n",
    "2. Visualizing trends\n",
    "3. Comparing multiple data series"
   ]
  },
  {
   "cell_type": "code",
   "execution_count": 54,
   "metadata": {},
   "outputs": [
    {
     "data": {
      "image/png": "[encoded data removed]",
      "text/plain": [
       "<Figure size 640x480 with 1 Axes>"
      ]
     },
     "metadata": {},
     "output_type": "display_data"
    }
   ],
   "source": [
    "plt.plot(brasil)\n",
    "plt.show()\n",
    "\n",
    "\n",
    "#Above, we created a DataFrame \"Brasil\" with **Year: Number of Immigrants**\n",
    "\n",
    "#**X = Year**\n",
    "\n",
    "#**Y = Number of Immigrants**\n"
   ]
  },
  {
   "cell_type": "markdown",
   "metadata": {},
   "source": [
    "## Bar Plot\n",
    "\n",
    "**Description:**\n",
    "\n",
    "A bar plot displays categorical data with rectangular bars. The lengths of the bars are proportional to the values they represent. Bar plots are great for comparing quantities of different categories.\n",
    "\n",
    "**Use Cases:**\n",
    "1. Comparing different groups or categories\n",
    "2. Showing the distribution of categorical data"
   ]
  },
  {
   "cell_type": "code",
   "execution_count": 94,
   "metadata": {},
   "outputs": [
    {
     "data": {
      "image/png": "[encoded data removed]",
      "text/plain": [
       "<Figure size 640x480 with 1 Axes>"
      ]
     },
     "metadata": {},
     "output_type": "display_data"
    }
   ],
   "source": [
    "four_years = brasil.iloc[0:4]\n",
    "four_years.plot(kind='bar')\n",
    "plt.show()\n",
    "\n",
    "#  or\n",
    "#plt.bar(four_years.index, four_years['Brasil'])"
   ]
  },
  {
   "cell_type": "markdown",
   "metadata": {},
   "source": [
    "## Horizontal Bar Plot (barh)\n",
    "\n",
    "**Description:**\n",
    "\n",
    "A horizontal bar plot is similar to a vertical bar plot but uses horizontal bars. It is useful when the category names are long or there are many categories, making it easier to read the labels.\n",
    "\n",
    "**Use Cases:**\n",
    "1. Comparing categories with long names\n",
    "2. Improving readability with many categories"
   ]
  },
  {
   "cell_type": "code",
   "execution_count": 98,
   "metadata": {},
   "outputs": [
    {
     "data": {
      "image/png": "[encoded data removed]",
      "text/plain": [
       "<Figure size 640x480 with 1 Axes>"
      ]
     },
     "metadata": {},
     "output_type": "display_data"
    }
   ],
   "source": [
    "plt.barh(four_years.index, four_years['Brasil'], height=0.4)\n",
    "plt.show()"
   ]
  },
  {
   "cell_type": "markdown",
   "metadata": {},
   "source": [
    "## Pie Chart\n",
    "\n",
    "**Description:**\n",
    "\n",
    "A pie chart represents data as slices of a pie. Each slice corresponds to a category's proportion of the total. Pie charts are useful for showing the relative proportions of a whole.\n",
    "\n",
    "**Use Cases:**\n",
    "1. Showing parts of a whole\n",
    "2. Visualizing percentage distributions\n",
    "\n",
    "*\n",
    "\n",
    "<span style=\"color: red;\">ALERT: not suitable for comparison and when there are many categories</span>\n",
    "\n",
    "Read more in: https://scc.ms.unimelb.edu.au/resources/data-visualisation-and-exploration/no_pie-charts\n"
   ]
  },
  {
   "cell_type": "code",
   "execution_count": 92,
   "metadata": {},
   "outputs": [
    {
     "data": {
      "image/png": "[encoded data removed]",
      "text/plain": [
       "<Figure size 640x480 with 1 Axes>"
      ]
     },
     "metadata": {},
     "output_type": "display_data"
    }
   ],
   "source": [
    "plt.pie(four_years['Brasil'].values, labels=four_years.index)\n",
    "plt.show()"
   ]
  },
  {
   "cell_type": "code",
   "execution_count": null,
   "metadata": {},
   "outputs": [],
   "source": []
  }
 ],
 "metadata": {
  "kernelspec": {
   "display_name": "Python 3",
   "language": "python",
   "name": "python3"
  },
  "language_info": {
   "codemirror_mode": {
    "name": "ipython",
    "version": 3
   },
   "file_extension": ".py",
   "mimetype": "text/x-python",
   "name": "python",
   "nbconvert_exporter": "python",
   "pygments_lexer": "ipython3",
   "version": "3.12.1"
  }
 },
 "nbformat": 4,
 "nbformat_minor": 2
}
